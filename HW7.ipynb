{
 "cells": [
  {
   "cell_type": "markdown",
   "id": "6a65de79",
   "metadata": {},
   "source": [
    "#Question 1\n",
    "\n",
    "1) \n",
    "In SLR, the relationship between a single predictor (independent variable) x and the outcome (dependent variable) y is modeled as y=β0+β1x where β0 is the intercept, and β1 is the slope, representing the change in y for a one-unit increase in x.\n",
    "\n",
    "In MLR, there are two or more predictors and the outcome y is modeled as y=β0+β1X1+β2X2+...+βnXn, where each β coefficient represents the effect of a one-unit change in its associated predictor, holding other predictors constant."
   ]
  },
  {
   "cell_type": "markdown",
   "id": "2ebe6eeb",
   "metadata": {},
   "source": [
    "Benefit of MLR: MLR can account for the effects of multiple variables, which allows for a more nuanced understanding of the outcome and improves prediction accuracy by considering the combined effects of several factors."
   ]
  },
  {
   "cell_type": "markdown",
   "id": "ef341f9a",
   "metadata": {},
   "source": [
    "2) \n",
    "Continuous Variable:\n",
    "A continuous predictor (like age or height) can take on any value within a range. In a simple linear regression with a continuous predictor, the model form is:y=β0+β1x\n",
    "\n",
    "Indicator Variable:\n",
    "An indicator variable (binary, often coded as 0 or 1) represents categorical data, such as gender (male/female) or presence (yes/no). In a simple linear regression with an indicator variable D, the model is:y=β0+β1D"
   ]
  },
  {
   "cell_type": "markdown",
   "id": "ef518c4a",
   "metadata": {},
   "source": [
    "3)\n",
    "When a continuous variable x and an indicator variable D are combined in MLR, the model takes the form: y=β0+β1x+β2D. Here, β0 is the intercept for the baseline group (D=0), β1 represents the effect of x on y, and β2 captures the shift in the intercept when D=1."
   ]
  },
  {
   "cell_type": "markdown",
   "id": "ffe193cd",
   "metadata": {},
   "source": [
    "Behavior Change in Model:\n",
    "Adding D allows the model to adjust the baseline outcome for different categories, capturing different intercepts for each group defined by D, while the slope for x remains the same across groups."
   ]
  },
  {
   "cell_type": "markdown",
   "id": "0987275e",
   "metadata": {},
   "source": [
    "4)\n",
    "When an interaction term between a continuous variable x and an indicator D is added, the model becomes:\n",
    "y=β0+β1x+β2D+β3(x⋅D) The interaction term β3(x⋅D) allows the slope for x to vary between the groups defined by D. In this setup:\n",
    "β1 is the slope of x for the baseline group (D=0).\n",
    "β1+β3 becomes the slope of x when D=1."
   ]
  },
  {
   "cell_type": "markdown",
   "id": "bef996d7",
   "metadata": {},
   "source": [
    "Effect on Model Behavior:\n",
    "This model form allows both the intercept and the slope for x to vary by group, enabling more flexible, group-specific relationships with y."
   ]
  },
  {
   "cell_type": "markdown",
   "id": "03717783",
   "metadata": {},
   "source": [
    "5)\n",
    "MLR with Only Indicator Variables from a Categorical Variable\n",
    "For a categorical predictor with more than two levels, say k categories (e.g., region: North, South, East, West), we create k−1 binary indicator variables to represent them. For example, if we have 4 regions, we might define indicators D1,D2,D3, where each indicator represents one of the categories (with one as the baseline, e.g., \"West\").\n",
    "y=β0+β1D1+β2D2+β3D3, β0represents the outcome for the baseline category (e.g., \"West\"), each β coefficient reflects the shift in outcome from the baseline for that specific category."
   ]
  },
  {
   "cell_type": "markdown",
   "id": "2a208e58",
   "metadata": {},
   "source": [
    "Baseline Group and Interpretation:\n",
    "The baseline group (where all D variables are 0) serves as a reference. The coefficients for each D variable show how the outcome changes relative to this baseline. The \"number of categories minus one\" indicator variables avoid redundancy and maintain full model rank."
   ]
  },
  {
   "cell_type": "markdown",
   "id": "29d630d9",
   "metadata": {},
   "source": [
    "#Question 2\n",
    "\n",
    "Variables and Interactions in the Advertising Scenario\n",
    "\n",
    "1. Outcome Variable: \n",
    "Sales or another indicator of efficacy is the end variable, which the business hopes to raise through advertising.\n",
    "2. Predictive factors:\n",
    "TV Ad Spend: A continuous variable that shows the amount of money allocated to TV advertising.\n",
    "Spending on online advertising is represented by the continuous variable \"Online Ad Spend.\""
   ]
  },
  {
   "cell_type": "markdown",
   "id": "89985df9",
   "metadata": {},
   "source": [
    "Additive Model (No Interaction)\n",
    "\n",
    "In the additive model, the effect of TV and online ad spends on sales is independent. The linear form of the model without interaction is:Sales=β0+β1(TV Ad Spend)+β2(Online Ad Spend)\n",
    "In this form:\n",
    "β0: Baseline sales when there is no ad spend on either medium.\n",
    "β1: Change in sales for each unit increase in TV ad spend, holding online ad spend constant.\n",
    "β2: Change in sales for each unit increase in online ad spend, holding TV ad spend constant.\n",
    "\n",
    "Interpretation: \n",
    "TV and internet advertising have additive effects, which means that each ad spend has an independent impact on sales."
   ]
  },
  {
   "cell_type": "markdown",
   "id": "2db25ec0",
   "metadata": {},
   "source": [
    "Interactive Model\n",
    "\n",
    "Sales=β0+β1(TV Ad Spend)+β2(Online Ad Spend)+β3(TV Ad Spend×Online Ad Spend), β3: Represents the interaction effect. If it’s significant, it suggests that the effect of TV ad spend on sales changes depending on the amount spent on online advertising (and vice versa).\n",
    "\n",
    "Interpretation:\n",
    "With the interaction, the model reflects that the effectiveness of one ad medium may depend on the budget of the other. For instance, TV ads might become more effective if online ad spend is also high, indicating a synergistic effect."
   ]
  },
  {
   "cell_type": "markdown",
   "id": "6c941efb",
   "metadata": {},
   "source": [
    "Predictions and Differences\n",
    "\n",
    "Without Interaction: Regardless of the other ad spend, the expected sales rise by a predetermined amount for every unit increase.\n",
    "With Interaction: Depending on how much is spent on the other medium, increased TV or online ad spending may have a greater effect on sales than the additive model would indicate when both expenditures are high."
   ]
  },
  {
   "cell_type": "markdown",
   "id": "510ae86e",
   "metadata": {},
   "source": [
    "Binary (High/Low) Ad Spend Model\n",
    "\n",
    "Suppose ad budgets are now classified as either “High” or “Low,” making both predictor variables binary indicators.\n",
    "Additive Model (Binary Predictors, No Interaction)\n",
    "\n",
    "With binary indicators for high/low spend on each medium, we model:Sales=β0+β1DTV+β2DOnline\n",
    "where:D TV is 1 if TV ad spend is high, 0 if low. D Online is 1 if online ad spend is high, 0 if low."
   ]
  },
  {
   "cell_type": "markdown",
   "id": "959d02b9",
   "metadata": {},
   "source": [
    "Predictions and Differences with Binary Indicators\n",
    "\n",
    "Without Interaction: Whether the budget for the other media is large or small, the impact of a high ad expenditure in one medium on sales is always the same.\n",
    "With Interaction: The model forecasts a further rise in sales because of the synergy between online and TV advertising if both ad spends are high."
   ]
  },
  {
   "cell_type": "markdown",
   "id": "aa97dbc7",
   "metadata": {},
   "source": [
    "#Question 3 \n",
    "\n",
    "1. Setup and Data Preparation\n",
    "We'll start by setting up the data. Assuming we're working with the Canadian Social Connection Survey dataset, you'll need to load this data, create a binary outcome variable if the original outcome variable isn't already binary, and select a couple of predictor variables (continuous, binary, or categorical)."
   ]
  },
  {
   "cell_type": "markdown",
   "id": "aa76ce8e",
   "metadata": {},
   "source": [
    "2. Interpreting Model Output\n",
    "From the .summary() table for each model:\n",
    "\n",
    "Coefficients: Each predictor’s coefficient shows its effect on the log odds of the outcome. Larger positive coefficients suggest a stronger association with the outcome.\n",
    "Statistical Significance: Look at p-values for each predictor. Predictors with p-values below a certain threshold (e.g., 0.05) are considered statistically significant, indicating that there is sufficient evidence that the predictor is associated with the outcome.\n",
    "Additive vs. Interaction: If the interaction term has a significant p-value in the synergistic model, this indicates that the effect of one predictor depends on the value of another, warranting an interaction term in the model."
   ]
  },
  {
   "cell_type": "markdown",
   "id": "182c12d1",
   "metadata": {},
   "source": [
    "3. Visualizing the Data with “Best Fit Lines”\n",
    "Since logistic regression produces log odds rather than direct outcomes, we’ll visualize it like a multivariate linear regression. "
   ]
  },
  {
   "cell_type": "markdown",
   "id": "32ebdc83",
   "metadata": {},
   "source": [
    "4. Interpretation of Visualizations\n",
    "Additive Model Visualization: The additive model displays separate linear trends for each level of the binary variable but assumes no change in the slope of continuous_sim between levels of binary_sim.\n",
    "Interaction Model Visualization: In the interaction model, each level of binary_sim may have a different slope for continuous_sim, showing a synergistic effect where the impact of the continuous variable depends on the binary variable’s level."
   ]
  },
  {
   "cell_type": "markdown",
   "id": "4c0728c3",
   "metadata": {},
   "source": [
    "Summary\n",
    "\n",
    "Logistic Regression Models: Built logistic regression models using additive and interaction forms for binary outcomes.\n",
    "Interpreting Coefficients: Analyzed coefficients as if they were linear for simplicity, focusing on significance and direction.\n",
    "Visualization: Used \"best fit lines\" and simulated predictor data for an interpretive visualization of additive vs. interaction effects."
   ]
  },
  {
   "cell_type": "markdown",
   "id": "27024013",
   "metadata": {},
   "source": [
    "Summary for my chatbot (From question one to question three)\n",
    "\n",
    "https://chatgpt.com/share/6733c9ec-036c-800b-8a35-1507822671dd"
   ]
  },
  {
   "cell_type": "markdown",
   "id": "ea3b3318",
   "metadata": {},
   "source": [
    "#Question 4\n",
    "\n",
    "1. R-squared (Explanatory Power): R^2 measures the proportion of variability in the outcome variable (e.g., \"HP\" in this case) explained by the model. A low R^2 implies that the model doesn't account for much of the variance in the outcome variable, which could suggest that other factors not included in the model are influencing the outcome. However, a low R^2 does not imply that the relationships found between the predictors and the outcome variable are unimportant."
   ]
  },
  {
   "cell_type": "markdown",
   "id": "a95faaf2",
   "metadata": {},
   "source": [
    "2. P-values (Hypothesis Testing and Significance of Coefficients): P-values for the coefficients test whether each predictor variable has a statistically significant relationship with the outcome variable. When we find strong or very strong evidence against the null hypothesis (i.e., low p-values for coefficients), it means that, even though the model may not explain a large portion of the total variance in \"HP,\" the predictors included do show a meaningful relationship with the outcome variable \"when all other predictor variables are held constant.\""
   ]
  },
  {
   "cell_type": "markdown",
   "id": "d5e27c70",
   "metadata": {},
   "source": [
    "3.Interpretation and the Nature of Multiple Linear Regression: In multiple linear regression, we often interpret each coefficient as showing the average effect of a predictor variable while holding others constant. Strong statistical evidence for certain coefficients (despite low R^2) suggests that these predictors have specific effects on the outcome variable, even if the total variation explained by the model remains limited."
   ]
  },
  {
   "cell_type": "markdown",
   "id": "d6d59447",
   "metadata": {},
   "source": [
    "4. Categorical Variables and Interaction Terms: In the model with the formula 'HP ~ Q(\"Sp. Def\") * C(Generation)', the predictor \"Generation\" is treated as a categorical variable, which allows us to understand how each generation category influences \"HP\" through interaction terms. Interaction terms, like those introduced by Q(\"Sp. Def\") * C(Generation), enable the model to capture relationships that might vary across categories. This design acknowledges that \"Generation\" is not an incremental continuous predictor but a categorical one with distinct levels (e.g., Generations 1 to 6), enabling contrasts rather than assuming a linear relationship."
   ]
  },
  {
   "cell_type": "markdown",
   "id": "e15da482",
   "metadata": {},
   "source": [
    "5. Reconciling Both Measures: While R^2 provides an overview of how well the model captures the overall variability in \"HP,\" the p-values and coefficients address specific relationships in the model, helping us understand which variables are significantly associated with \"HP.\" Therefore, these metrics are not in conflict but rather provide complementary insights:\n",
    "\n",
    "* R^2 tells us about the model’s overall fit.\n",
    "* P-values and coefficients reveal whether individual predictors have significant, interpretable effects on the outcome variable."
   ]
  },
  {
   "cell_type": "code",
   "execution_count": null,
   "id": "66a849da",
   "metadata": {},
   "outputs": [],
   "source": [
    "#Question 5"
   ]
  },
  {
   "cell_type": "markdown",
   "id": "eed0aee6",
   "metadata": {},
   "source": [
    "1. Data Preparation and Splitting (Cell 1)"
   ]
  },
  {
   "cell_type": "code",
   "execution_count": 6,
   "id": "6caecd16",
   "metadata": {},
   "outputs": [
    {
     "data": {
      "text/html": [
       "<div>\n",
       "<style scoped>\n",
       "    .dataframe tbody tr th:only-of-type {\n",
       "        vertical-align: middle;\n",
       "    }\n",
       "\n",
       "    .dataframe tbody tr th {\n",
       "        vertical-align: top;\n",
       "    }\n",
       "\n",
       "    .dataframe thead th {\n",
       "        text-align: right;\n",
       "    }\n",
       "</style>\n",
       "<table border=\"1\" class=\"dataframe\">\n",
       "  <thead>\n",
       "    <tr style=\"text-align: right;\">\n",
       "      <th></th>\n",
       "      <th>#</th>\n",
       "      <th>Name</th>\n",
       "      <th>Type 1</th>\n",
       "      <th>Type 2</th>\n",
       "      <th>HP</th>\n",
       "      <th>Attack</th>\n",
       "      <th>Defense</th>\n",
       "      <th>Sp. Atk</th>\n",
       "      <th>Sp. Def</th>\n",
       "      <th>Speed</th>\n",
       "      <th>Generation</th>\n",
       "      <th>Legendary</th>\n",
       "    </tr>\n",
       "  </thead>\n",
       "  <tbody>\n",
       "    <tr>\n",
       "      <th>370</th>\n",
       "      <td>338</td>\n",
       "      <td>Solrock</td>\n",
       "      <td>Rock</td>\n",
       "      <td>Psychic</td>\n",
       "      <td>70</td>\n",
       "      <td>95</td>\n",
       "      <td>85</td>\n",
       "      <td>55</td>\n",
       "      <td>65</td>\n",
       "      <td>70</td>\n",
       "      <td>3</td>\n",
       "      <td>False</td>\n",
       "    </tr>\n",
       "    <tr>\n",
       "      <th>6</th>\n",
       "      <td>6</td>\n",
       "      <td>Charizard</td>\n",
       "      <td>Fire</td>\n",
       "      <td>Flying</td>\n",
       "      <td>78</td>\n",
       "      <td>84</td>\n",
       "      <td>78</td>\n",
       "      <td>109</td>\n",
       "      <td>85</td>\n",
       "      <td>100</td>\n",
       "      <td>1</td>\n",
       "      <td>False</td>\n",
       "    </tr>\n",
       "    <tr>\n",
       "      <th>242</th>\n",
       "      <td>224</td>\n",
       "      <td>Octillery</td>\n",
       "      <td>Water</td>\n",
       "      <td>None</td>\n",
       "      <td>75</td>\n",
       "      <td>105</td>\n",
       "      <td>75</td>\n",
       "      <td>105</td>\n",
       "      <td>75</td>\n",
       "      <td>45</td>\n",
       "      <td>2</td>\n",
       "      <td>False</td>\n",
       "    </tr>\n",
       "    <tr>\n",
       "      <th>661</th>\n",
       "      <td>600</td>\n",
       "      <td>Klang</td>\n",
       "      <td>Steel</td>\n",
       "      <td>None</td>\n",
       "      <td>60</td>\n",
       "      <td>80</td>\n",
       "      <td>95</td>\n",
       "      <td>70</td>\n",
       "      <td>85</td>\n",
       "      <td>50</td>\n",
       "      <td>5</td>\n",
       "      <td>False</td>\n",
       "    </tr>\n",
       "    <tr>\n",
       "      <th>288</th>\n",
       "      <td>265</td>\n",
       "      <td>Wurmple</td>\n",
       "      <td>Bug</td>\n",
       "      <td>None</td>\n",
       "      <td>45</td>\n",
       "      <td>45</td>\n",
       "      <td>35</td>\n",
       "      <td>20</td>\n",
       "      <td>30</td>\n",
       "      <td>20</td>\n",
       "      <td>3</td>\n",
       "      <td>False</td>\n",
       "    </tr>\n",
       "  </tbody>\n",
       "</table>\n",
       "</div>"
      ],
      "text/plain": [
       "       #       Name Type 1   Type 2  HP  Attack  Defense  Sp. Atk  Sp. Def  \\\n",
       "370  338    Solrock   Rock  Psychic  70      95       85       55       65   \n",
       "6      6  Charizard   Fire   Flying  78      84       78      109       85   \n",
       "242  224  Octillery  Water     None  75     105       75      105       75   \n",
       "661  600      Klang  Steel     None  60      80       95       70       85   \n",
       "288  265    Wurmple    Bug     None  45      45       35       20       30   \n",
       "\n",
       "     Speed  Generation  Legendary  \n",
       "370     70           3      False  \n",
       "6      100           1      False  \n",
       "242     45           2      False  \n",
       "661     50           5      False  \n",
       "288     20           3      False  "
      ]
     },
     "execution_count": 6,
     "metadata": {},
     "output_type": "execute_result"
    }
   ],
   "source": [
    "import numpy as np\n",
    "from sklearn.model_selection import train_test_split\n",
    "\n",
    "# Data preparation and splitting\n",
    "fifty_fifty_split_size = int(pokeaman.shape[0]*0.5)\n",
    "pokeaman.fillna('None', inplace=True)\n",
    "np.random.seed(130)\n",
    "pokeaman_train, pokeaman_test = train_test_split(pokeaman, train_size=fifty_fifty_split_size)\n",
    "\n",
    "# Check the first few rows of pokeaman_train to verify successful loading and splitting\n",
    "pokeaman_train.head()\n"
   ]
  },
  {
   "cell_type": "markdown",
   "id": "370b3243",
   "metadata": {},
   "source": [
    "Purpose: This code cell prepares the data for training and testing. It performs a 50/50 split, where half of the data goes into the training set (pokeaman_train) and the other half into the test set (pokeaman_test).\n",
    "Data Cleaning: Missing values in the \"Type 2\" column are replaced with \"None\" to ensure the dataset is complete for model training and testing.\n",
    "Key Concept: Splitting data into training and test sets allows us to evaluate model generalizability by comparing \"in-sample\" (training set) and \"out-of-sample\" (test set) performance."
   ]
  },
  {
   "cell_type": "markdown",
   "id": "48434a49",
   "metadata": {},
   "source": [
    "2. Model 3: Simple Linear Regression Model (Cell 2)"
   ]
  },
  {
   "cell_type": "markdown",
   "id": "25ad1418",
   "metadata": {},
   "source": [
    "Purpose: This cell defines and fits a simple linear regression model (model_spec3) predicting \"HP\" based on \"Attack\" and \"Defense\" attributes in the training set.\n",
    "\n",
    "Model Summary: The model3_fit.summary() call provides key information, including coefficients, p-values, and R^2 (in-sample) for this simple model.\n",
    "\n",
    "Key Concept: Simple models are often less likely to overfit and may generalize better if they capture essential relationships without excessive complexity."
   ]
  },
  {
   "cell_type": "markdown",
   "id": "c71f294e",
   "metadata": {},
   "source": [
    "3. Model 3: In-Sample and Out-of-Sample R^2 Calculation (Cell 3)"
   ]
  },
  {
   "cell_type": "markdown",
   "id": "095e06a4",
   "metadata": {},
   "source": [
    "Purpose: This cell calculates and compares the \"in-sample\" R^2 (from model3_fit.rsquared) and \"out-of-sample\"R^2.\n",
    "\n",
    "In-Sample R^2: Measures how well the model explains the variability of \"HP\" within the training data.\n",
    "\n",
    "Out-of-Sample R^2: Calculated as the squared correlation between actual \"HP\" values and predicted values (yhat_model3) on the test data.\n",
    "\n",
    "Key Insight: A large discrepancy between in-sample and out-of-sample R^2 values would indicate overfitting, as the model may capture noise in the training data rather than generalizable patterns."
   ]
  },
  {
   "cell_type": "code",
   "execution_count": 9,
   "id": "458ac16d",
   "metadata": {},
   "outputs": [
    {
     "ename": "SyntaxError",
     "evalue": "invalid syntax (1574257255.py, line 1)",
     "output_type": "error",
     "traceback": [
      "\u001b[0;36m  Cell \u001b[0;32mIn[9], line 1\u001b[0;36m\u001b[0m\n\u001b[0;31m    4. model4_linear_form = 'HP ~ Attack * Defense * Speed * Legendary * Q(\"Sp. Def\") * Q(\"Sp. Atk\")'\u001b[0m\n\u001b[0m       ^\u001b[0m\n\u001b[0;31mSyntaxError\u001b[0m\u001b[0;31m:\u001b[0m invalid syntax\n"
     ]
    }
   ],
   "source": [
    "4. Model 4: Complex Linear Regression Model (Cell 4)\n",
    "\n",
    "model4_linear_form = 'HP ~ Attack * Defense * Speed * Legendary * Q(\"Sp. Def\") * Q(\"Sp. Atk\")'\n",
    "model4_spec = smf.ols(formula=model4_linear_form, data=pokeaman_train)\n",
    "model4_fit = model4_spec.fit()\n",
    "model4_fit.summary()"
   ]
  },
  {
   "cell_type": "markdown",
   "id": "bbb75cc0",
   "metadata": {},
   "source": [
    "Purpose: This cell defines a more complex linear regression model (model4_spec) with multiple interaction terms, which increases the model’s flexibility and complexity.\n",
    "\n",
    "Formula Structure: The interaction terms (*) allow the model to capture more intricate relationships between variables.\n",
    "\n",
    "Key Concept: Complex models often have higher in-sample R^2 due to their flexibility but may overfit, leading to poor out-of-sample performance."
   ]
  },
  {
   "cell_type": "code",
   "execution_count": 10,
   "id": "6bfc08b7",
   "metadata": {},
   "outputs": [
    {
     "ename": "SyntaxError",
     "evalue": "invalid syntax (820241241.py, line 1)",
     "output_type": "error",
     "traceback": [
      "\u001b[0;36m  Cell \u001b[0;32mIn[10], line 1\u001b[0;36m\u001b[0m\n\u001b[0;31m    5. yhat_model4 = model4_fit.predict(pokeaman_test)\u001b[0m\n\u001b[0m       ^\u001b[0m\n\u001b[0;31mSyntaxError\u001b[0m\u001b[0;31m:\u001b[0m invalid syntax\n"
     ]
    }
   ],
   "source": [
    "5. Model 4: In-Sample and Out-of-Sample R^2\n",
    "\n",
    "  Calculation (Cell 5)\n",
    "yhat_model4 = model4_fit.predict(pokeaman_test)\n",
    "y = pokeaman_test.HP\n",
    "print(\"'In sample' R-squared:    \", model4_fit.rsquared)\n",
    "print(\"'Out of sample' R-squared:\", np.corrcoef(y, yhat_model4)[0, 1] ** 2)\n"
   ]
  },
  {
   "cell_type": "markdown",
   "id": "bcdf1dfa",
   "metadata": {},
   "source": [
    "Purpose: This cell calculates in-sample and out-of-sample R^2 values for the complex model.\n",
    "\n",
    "Interpretation: If the in-sample R^2 is high but the out-of-sample R^2 is significantly lower, it suggests that the model may be overfitting.\n",
    "\n",
    "Key Insight: Comparing the two R^2 values helps evaluate whether the complex model’s additional terms improve generalizability or merely capture noise in the training data."
   ]
  },
  {
   "cell_type": "markdown",
   "id": "1001d02e",
   "metadata": {},
   "source": [
    "Summary of Key Insights\n",
    "\n",
    "In-Sample vs. Out-of-Sample R^2: In-sample R^2 measures how well the model explains the training data, while out-of-sample R^2 assesses generalizability to new data.\n",
    "\n",
    "Model Complexity and Overfitting: The more complex model (Model 4) is likely to have a higher in-sample R^2 than the simpler model (Model 3) but may perform poorly out-of-sample if it overfits.\n",
    "\n",
    "Generalizability: Using both training and testing datasets is essential to confirm that a model generalizes well, avoiding overfitting and ensuring predictions apply to data beyond the training set."
   ]
  },
  {
   "cell_type": "code",
   "execution_count": null,
   "id": "facffa6e",
   "metadata": {},
   "outputs": [],
   "source": [
    "#Question 6"
   ]
  },
  {
   "cell_type": "markdown",
   "id": "79f4b4b8",
   "metadata": {},
   "source": [
    "1. Design Matrix and Multicollinearity:\n",
    "\n",
    "The model4_linear_form specification involves multiple interaction terms (e.g., Attack * Defense * Speed * Legendary * Q(\"Sp. Def\") * Q(\"Sp. Atk\")), resulting in a highly complex model with many predictors.\n",
    "\n",
    "These interaction terms create a design matrix (model4_spec.exog) with a large number of columns (predictor variables), some of which are highly correlated, leading to multicollinearity.\n",
    "\n",
    "Multicollinearity in the design matrix means that some predictors are strongly correlated with each other, making it difficult for the model to distinguish their individual effects. This situation is quantified by the condition number."
   ]
  },
  {
   "cell_type": "markdown",
   "id": "88028e3c",
   "metadata": {},
   "source": [
    "2. Condition Number as a Diagnostic Tool:\n",
    "\n",
    "The condition number of a design matrix (found in model4_fit.summary() under \"Cond. No.\") measures the degree of multicollinearity. A very high condition number (e.g., in the trillions) indicates severe multicollinearity, as seen in model4_fit.\n",
    "\n",
    "Centering and scaling continuous predictors can reduce the condition number by removing the scale differences among predictors. However, in model4, even after centering and scaling, the condition number remains excessively high, underscoring significant multicollinearity."
   ]
  },
  {
   "cell_type": "markdown",
   "id": "ed1a1158",
   "metadata": {},
   "source": [
    "3. Impact on Generalizability and Overfitting:\n",
    "\n",
    "High multicollinearity in the design matrix makes the model overly sensitive to small variations in the training data, capturing noise rather than true predictive relationships. This overfitting results in high \"in-sample\" R^2 but poor \"out-of-sample\" R^2, as the model’s complexity exceeds the amount of information the dataset provides.\n",
    "\n",
    "Simple models (like model3), with fewer predictors and lower multicollinearity, are less prone to overfitting and perform better on new data because they capture fundamental relationships more reliably."
   ]
  },
  {
   "cell_type": "markdown",
   "id": "1fc53871",
   "metadata": {},
   "source": [
    "4. Why Multicollinearity Affects Generalizability\n",
    "\n",
    "When predictor variables are highly correlated, it creates uncertainty in how each one contributes to the prediction, reducing the model's ability to reliably predict outcomes on new data. For multiple highly correlated predictors, this effect compounds, further decreasing generalizability."
   ]
  },
  {
   "cell_type": "markdown",
   "id": "0fd2a509",
   "metadata": {},
   "source": [
    "Summary Statement\n",
    "\n",
    "The excessive complexity of model4, with numerous interaction terms, leads to extreme multicollinearity in its design matrix. This high multicollinearity, evidenced by a very large condition number, causes the model to overfit the training data, capturing spurious patterns that do not generalize to new data. In contrast, simpler models (like model3) are less affected by multicollinearity, yielding more reliable predictions across both training and test sets."
   ]
  },
  {
   "cell_type": "markdown",
   "id": "2754d6ec",
   "metadata": {},
   "source": [
    "#Question 7\n",
    "\n",
    "1. From model3 to model4:\n",
    "model4 adds a large number of interaction terms to model3, significantly increasing complexity. However, this led to high multicollinearity (as seen in the very large condition number), which decreased the model’s ability to generalize to test data. This overfitting occurred because model4 tried to model patterns specific to the training set that were not real generalizable patterns."
   ]
  },
  {
   "cell_type": "markdown",
   "id": "47b3f78e",
   "metadata": {},
   "source": [
    "2. From model4 to model5:\n",
    "model5 takes a step back from the excessive interactions and complexity of model4, focusing on simpler additive terms for relevant predictors and adding categorical indicators for \"Generation\" and types. This approach aimed to balance complexity and generalizability by capturing main effects without overfitting with unnecessary interactions."
   ]
  },
  {
   "cell_type": "markdown",
   "id": "77bb41c9",
   "metadata": {},
   "source": [
    "3. From model5 to model6:\n",
    "model6 refines model5 by including only those predictors that showed significant evidence of associations in model5. This model is simpler and avoids adding predictors without strong evidence, improving interpretability and reducing overfitting risks."
   ]
  },
  {
   "cell_type": "markdown",
   "id": "23419055",
   "metadata": {},
   "source": [
    "4. From model6 to model7:\n",
    "model7 builds on model6 by reintroducing interaction terms among core predictors that have shown evidence of associations. It also keeps key categorical indicators and applies centering and scaling to continuous predictors, yielding a manageable condition number (15.4) without severe multicollinearity. This careful balance aims to capture complex relationships while maintaining generalizability."
   ]
  },
  {
   "cell_type": "markdown",
   "id": "4d8a809f",
   "metadata": {},
   "source": [
    "Build upon the prior model gradually by striking a balance between generalizability, predictive capability, and complexity. A basic model (model 3) is used as a starting point, followed by an overly complex model (model 4), evidence-based selections (model 5, model 6), and finally a manageable, high-performing specification (model 7)."
   ]
  },
  {
   "cell_type": "markdown",
   "id": "9af6d6b0",
   "metadata": {},
   "source": [
    "#Summary for my chatbot (From question four to seven)\n",
    "\n",
    "https://chatgpt.com/share/6734249d-c09c-800b-8c28-faed696be4b7"
   ]
  },
  {
   "cell_type": "markdown",
   "id": "b79a51cc",
   "metadata": {},
   "source": [
    "#Question 8\n",
    "\n",
    "Purpose of the Demonstration\n",
    "The code's purpose is to reveal the variability in the model's performance across different train-test splits. Repeatedly performing a train-test split allows us to capture the range of potential \"in-sample\" (training) and \"out-of-sample\" (testing) performance metrics for a single model specification. Specifically, we are interested in observing if the model's performance is stable or if it fluctuates significantly with different splits."
   ]
  },
  {
   "cell_type": "markdown",
   "id": "9c3c8a74",
   "metadata": {},
   "source": [
    "Overfitting occurs when the model performs well on training data but poorly on test data, meaning it may have \"memorized\" the training data rather than learning general patterns.\n",
    "\n",
    "High variability in out-of-sample performance could suggest that the model's predictive performance is sensitive to slight changes in the data, indicating that the model may not generalize well.\n",
    "\n",
    "Occasionally, a model may perform better on the test data than on the training data, which might be due to random noise or particular patterns in the test split that align well with the model, rather than reflecting true generalization."
   ]
  },
  {
   "cell_type": "code",
   "execution_count": 4,
   "id": "cd31f3c5",
   "metadata": {},
   "outputs": [],
   "source": [
    "import numpy as np\n",
    "import pandas as pd\n",
    "import plotly.express as px\n",
    "import plotly.graph_objects as go\n",
    "import statsmodels.formula.api as smf\n",
    "from sklearn.model_selection import train_test_split\n"
   ]
  },
  {
   "cell_type": "code",
   "execution_count": 6,
   "id": "28216e30",
   "metadata": {},
   "outputs": [
    {
     "data": {
      "application/vnd.plotly.v1+json": {
       "config": {
        "plotlyServerURL": "https://plot.ly"
       },
       "data": [
        {
         "hovertemplate": "In Sample Performance (Rsquared)=%{x}<br>Out of Sample Performance (Rsquared)=%{y}<extra></extra>",
         "legendgroup": "",
         "marker": {
          "color": "#636efa",
          "symbol": "circle"
         },
         "mode": "markers",
         "name": "",
         "orientation": "v",
         "showlegend": false,
         "type": "scatter",
         "x": [
          0.08274586090848235,
          0.030315356022320605,
          0.031196225581570758,
          0.05708212655698508,
          0.10949741178508632,
          0.04478530359117583,
          0.1432147579230455,
          0.053586359574547604,
          0.11452501284767602,
          0.04378094818098066,
          0.07949713393687408,
          0.10323186081228242,
          0.16382014667883926,
          0.05241707583336097,
          0.12388135227617025,
          0.11996109022021506,
          0.06744333757599341,
          0.09501911812874231,
          0.07183410827651515,
          0.06525310499279036,
          0.07466303294928456,
          0.1490120477340936,
          0.07114994453473411,
          0.04968256524825132,
          0.10639220176838382,
          0.052159971493136226,
          0.1178451503999095,
          0.07552380073875276,
          0.0552448962097567,
          0.09165496757095071,
          0.04019044443058528,
          0.12920480784821908,
          0.04573820270752671,
          0.0194174579934161,
          0.0860964412532913,
          0.08111917501141241,
          0.017095931447771662,
          0.13577203962044404,
          0.16877296190565572,
          0.17072493515779563,
          0.08835232915294444,
          0.1373356689970262,
          0.046422985506382464,
          0.10115909589690897,
          0.05357735173923439,
          0.0951710019361447,
          0.1499226348831566,
          0.055842177319856634,
          0.18785178610830067,
          0.09924218283864117,
          0.08238520122604143,
          0.08195096334151053,
          0.10079720985000018,
          0.039238124964375176,
          0.18146369904726223,
          0.041078192589548146,
          0.12942377720641496,
          0.018220924058123478,
          0.0771550462176237,
          0.13277618653559453,
          0.07635780902920841,
          0.05492498482679198,
          0.13061537480402574,
          0.08586601945155359,
          0.07055879437714563,
          0.059708503619710585,
          0.07284405967089536,
          0.04706152885191761,
          0.10154031780988726,
          0.08150014475120493,
          0.07727978979716876,
          0.12646447295334817,
          0.05256990017333041,
          0.09846023537784865,
          0.1302789159491925,
          0.1889550318246389,
          0.15590150737497754,
          0.12415901848484945,
          0.168131910065344,
          0.06447423012972231,
          0.10472042814717097,
          0.04626797180018116,
          0.1675495887035513,
          0.06850920875192756,
          0.04087015336211597,
          0.0656273790708024,
          0.07835913006502715,
          0.06188797166524951,
          0.061173087504695856,
          0.02004604027127399,
          0.07084886725894324,
          0.1300796010995069,
          0.06276882832318942,
          0.2176326484125055,
          0.05200168844161457,
          0.07714293982092046,
          0.09961460388810539,
          0.09601479092686838,
          0.13943052017375035,
          0.18207334537195585
         ],
         "xaxis": "x",
         "y": [
          9.143745241078459e-05,
          0.003689035699731796,
          0.007244680203469711,
          0.009204112220363242,
          0.002241507662450824,
          0.015969237001489354,
          3.711542890865405e-05,
          0.013471314496881246,
          0.013178530443458857,
          0.002196221866767875,
          0.003340890297558517,
          0.001525814931137276,
          0.002368988172256412,
          0.0019493350516655004,
          0.00201239018824638,
          0.061084747093668436,
          0.0009527009699237018,
          0.1158160611907492,
          0.01448924214428426,
          0.005522050213211966,
          0.004388033036669673,
          0.0009481740502886905,
          6.856361473499716e-05,
          0.006681321559918359,
          0.002113880666011986,
          0.013177850468731808,
          5.901441151672372e-05,
          0.05544901027017402,
          0.001878281175199776,
          0.003681057689780802,
          0.014708283613625818,
          0.009018622797550375,
          0.0384066261074768,
          0.039618357930276016,
          0.011388222541652967,
          0.0008349943717665968,
          0.004748276905907425,
          0.007274843036676433,
          0.0049061767190630295,
          0.016364735132584695,
          0.015983113087974416,
          0.01881641556512859,
          0.03378193792761801,
          0.012812696746940714,
          0.0011866079939448768,
          0.0031895009922355967,
          1.4334115867716645e-07,
          0.0045614080086357174,
          0.007587324208559792,
          0.005448308736000745,
          0.0077773224491956144,
          0.002537213769469253,
          0.0009869081957872357,
          0.017605004601000222,
          0.00032310861328419053,
          0.030010266102674727,
          0.00017322864688394307,
          0.022233622620283396,
          0.005479490246327195,
          0.0067970692093255874,
          0.028455786358741186,
          0.013974755866064646,
          5.662327440643353e-05,
          0.01298438035810333,
          0.00019335988687228285,
          0.009033089351171605,
          0.00563782859273807,
          0.042482238364587706,
          8.67838646605026e-05,
          0.0016733234307024162,
          0.008539294015398123,
          0.0025840020757449704,
          0.000960596320845578,
          0.015375004806739857,
          0.0004680068902085393,
          0.0023979502832457093,
          0.00011137106659015154,
          0.002446292294805624,
          0.005476774332692513,
          0.015622915960672631,
          0.0004175635487067733,
          0.004193917358533884,
          0.02505826169013183,
          0.018614022910732345,
          0.01792232560199876,
          0.025821487526840717,
          0.009983428361180708,
          0.01938599841007186,
          0.003039968497998552,
          0.011211961223353932,
          0.0243225150506805,
          9.619271134161783e-05,
          0.022076621554715868,
          0.027320641087735194,
          0.01849606706310176,
          0.013280820593588266,
          6.775444928151634e-05,
          0.0023721456639236712,
          0.017713050683428624,
          0.0005987755106067364
         ],
         "yaxis": "y"
        },
        {
         "line": {
          "dash": "dash"
         },
         "mode": "lines",
         "name": "y=x",
         "type": "scatter",
         "x": [
          0,
          1
         ],
         "y": [
          0,
          1
         ]
        }
       ],
       "layout": {
        "legend": {
         "tracegroupgap": 0
        },
        "margin": {
         "t": 60
        },
        "template": {
         "data": {
          "bar": [
           {
            "error_x": {
             "color": "#2a3f5f"
            },
            "error_y": {
             "color": "#2a3f5f"
            },
            "marker": {
             "line": {
              "color": "#E5ECF6",
              "width": 0.5
             },
             "pattern": {
              "fillmode": "overlay",
              "size": 10,
              "solidity": 0.2
             }
            },
            "type": "bar"
           }
          ],
          "barpolar": [
           {
            "marker": {
             "line": {
              "color": "#E5ECF6",
              "width": 0.5
             },
             "pattern": {
              "fillmode": "overlay",
              "size": 10,
              "solidity": 0.2
             }
            },
            "type": "barpolar"
           }
          ],
          "carpet": [
           {
            "aaxis": {
             "endlinecolor": "#2a3f5f",
             "gridcolor": "white",
             "linecolor": "white",
             "minorgridcolor": "white",
             "startlinecolor": "#2a3f5f"
            },
            "baxis": {
             "endlinecolor": "#2a3f5f",
             "gridcolor": "white",
             "linecolor": "white",
             "minorgridcolor": "white",
             "startlinecolor": "#2a3f5f"
            },
            "type": "carpet"
           }
          ],
          "choropleth": [
           {
            "colorbar": {
             "outlinewidth": 0,
             "ticks": ""
            },
            "type": "choropleth"
           }
          ],
          "contour": [
           {
            "colorbar": {
             "outlinewidth": 0,
             "ticks": ""
            },
            "colorscale": [
             [
              0,
              "#0d0887"
             ],
             [
              0.1111111111111111,
              "#46039f"
             ],
             [
              0.2222222222222222,
              "#7201a8"
             ],
             [
              0.3333333333333333,
              "#9c179e"
             ],
             [
              0.4444444444444444,
              "#bd3786"
             ],
             [
              0.5555555555555556,
              "#d8576b"
             ],
             [
              0.6666666666666666,
              "#ed7953"
             ],
             [
              0.7777777777777778,
              "#fb9f3a"
             ],
             [
              0.8888888888888888,
              "#fdca26"
             ],
             [
              1,
              "#f0f921"
             ]
            ],
            "type": "contour"
           }
          ],
          "contourcarpet": [
           {
            "colorbar": {
             "outlinewidth": 0,
             "ticks": ""
            },
            "type": "contourcarpet"
           }
          ],
          "heatmap": [
           {
            "colorbar": {
             "outlinewidth": 0,
             "ticks": ""
            },
            "colorscale": [
             [
              0,
              "#0d0887"
             ],
             [
              0.1111111111111111,
              "#46039f"
             ],
             [
              0.2222222222222222,
              "#7201a8"
             ],
             [
              0.3333333333333333,
              "#9c179e"
             ],
             [
              0.4444444444444444,
              "#bd3786"
             ],
             [
              0.5555555555555556,
              "#d8576b"
             ],
             [
              0.6666666666666666,
              "#ed7953"
             ],
             [
              0.7777777777777778,
              "#fb9f3a"
             ],
             [
              0.8888888888888888,
              "#fdca26"
             ],
             [
              1,
              "#f0f921"
             ]
            ],
            "type": "heatmap"
           }
          ],
          "heatmapgl": [
           {
            "colorbar": {
             "outlinewidth": 0,
             "ticks": ""
            },
            "colorscale": [
             [
              0,
              "#0d0887"
             ],
             [
              0.1111111111111111,
              "#46039f"
             ],
             [
              0.2222222222222222,
              "#7201a8"
             ],
             [
              0.3333333333333333,
              "#9c179e"
             ],
             [
              0.4444444444444444,
              "#bd3786"
             ],
             [
              0.5555555555555556,
              "#d8576b"
             ],
             [
              0.6666666666666666,
              "#ed7953"
             ],
             [
              0.7777777777777778,
              "#fb9f3a"
             ],
             [
              0.8888888888888888,
              "#fdca26"
             ],
             [
              1,
              "#f0f921"
             ]
            ],
            "type": "heatmapgl"
           }
          ],
          "histogram": [
           {
            "marker": {
             "pattern": {
              "fillmode": "overlay",
              "size": 10,
              "solidity": 0.2
             }
            },
            "type": "histogram"
           }
          ],
          "histogram2d": [
           {
            "colorbar": {
             "outlinewidth": 0,
             "ticks": ""
            },
            "colorscale": [
             [
              0,
              "#0d0887"
             ],
             [
              0.1111111111111111,
              "#46039f"
             ],
             [
              0.2222222222222222,
              "#7201a8"
             ],
             [
              0.3333333333333333,
              "#9c179e"
             ],
             [
              0.4444444444444444,
              "#bd3786"
             ],
             [
              0.5555555555555556,
              "#d8576b"
             ],
             [
              0.6666666666666666,
              "#ed7953"
             ],
             [
              0.7777777777777778,
              "#fb9f3a"
             ],
             [
              0.8888888888888888,
              "#fdca26"
             ],
             [
              1,
              "#f0f921"
             ]
            ],
            "type": "histogram2d"
           }
          ],
          "histogram2dcontour": [
           {
            "colorbar": {
             "outlinewidth": 0,
             "ticks": ""
            },
            "colorscale": [
             [
              0,
              "#0d0887"
             ],
             [
              0.1111111111111111,
              "#46039f"
             ],
             [
              0.2222222222222222,
              "#7201a8"
             ],
             [
              0.3333333333333333,
              "#9c179e"
             ],
             [
              0.4444444444444444,
              "#bd3786"
             ],
             [
              0.5555555555555556,
              "#d8576b"
             ],
             [
              0.6666666666666666,
              "#ed7953"
             ],
             [
              0.7777777777777778,
              "#fb9f3a"
             ],
             [
              0.8888888888888888,
              "#fdca26"
             ],
             [
              1,
              "#f0f921"
             ]
            ],
            "type": "histogram2dcontour"
           }
          ],
          "mesh3d": [
           {
            "colorbar": {
             "outlinewidth": 0,
             "ticks": ""
            },
            "type": "mesh3d"
           }
          ],
          "parcoords": [
           {
            "line": {
             "colorbar": {
              "outlinewidth": 0,
              "ticks": ""
             }
            },
            "type": "parcoords"
           }
          ],
          "pie": [
           {
            "automargin": true,
            "type": "pie"
           }
          ],
          "scatter": [
           {
            "fillpattern": {
             "fillmode": "overlay",
             "size": 10,
             "solidity": 0.2
            },
            "type": "scatter"
           }
          ],
          "scatter3d": [
           {
            "line": {
             "colorbar": {
              "outlinewidth": 0,
              "ticks": ""
             }
            },
            "marker": {
             "colorbar": {
              "outlinewidth": 0,
              "ticks": ""
             }
            },
            "type": "scatter3d"
           }
          ],
          "scattercarpet": [
           {
            "marker": {
             "colorbar": {
              "outlinewidth": 0,
              "ticks": ""
             }
            },
            "type": "scattercarpet"
           }
          ],
          "scattergeo": [
           {
            "marker": {
             "colorbar": {
              "outlinewidth": 0,
              "ticks": ""
             }
            },
            "type": "scattergeo"
           }
          ],
          "scattergl": [
           {
            "marker": {
             "colorbar": {
              "outlinewidth": 0,
              "ticks": ""
             }
            },
            "type": "scattergl"
           }
          ],
          "scattermapbox": [
           {
            "marker": {
             "colorbar": {
              "outlinewidth": 0,
              "ticks": ""
             }
            },
            "type": "scattermapbox"
           }
          ],
          "scatterpolar": [
           {
            "marker": {
             "colorbar": {
              "outlinewidth": 0,
              "ticks": ""
             }
            },
            "type": "scatterpolar"
           }
          ],
          "scatterpolargl": [
           {
            "marker": {
             "colorbar": {
              "outlinewidth": 0,
              "ticks": ""
             }
            },
            "type": "scatterpolargl"
           }
          ],
          "scatterternary": [
           {
            "marker": {
             "colorbar": {
              "outlinewidth": 0,
              "ticks": ""
             }
            },
            "type": "scatterternary"
           }
          ],
          "surface": [
           {
            "colorbar": {
             "outlinewidth": 0,
             "ticks": ""
            },
            "colorscale": [
             [
              0,
              "#0d0887"
             ],
             [
              0.1111111111111111,
              "#46039f"
             ],
             [
              0.2222222222222222,
              "#7201a8"
             ],
             [
              0.3333333333333333,
              "#9c179e"
             ],
             [
              0.4444444444444444,
              "#bd3786"
             ],
             [
              0.5555555555555556,
              "#d8576b"
             ],
             [
              0.6666666666666666,
              "#ed7953"
             ],
             [
              0.7777777777777778,
              "#fb9f3a"
             ],
             [
              0.8888888888888888,
              "#fdca26"
             ],
             [
              1,
              "#f0f921"
             ]
            ],
            "type": "surface"
           }
          ],
          "table": [
           {
            "cells": {
             "fill": {
              "color": "#EBF0F8"
             },
             "line": {
              "color": "white"
             }
            },
            "header": {
             "fill": {
              "color": "#C8D4E3"
             },
             "line": {
              "color": "white"
             }
            },
            "type": "table"
           }
          ]
         },
         "layout": {
          "annotationdefaults": {
           "arrowcolor": "#2a3f5f",
           "arrowhead": 0,
           "arrowwidth": 1
          },
          "autotypenumbers": "strict",
          "coloraxis": {
           "colorbar": {
            "outlinewidth": 0,
            "ticks": ""
           }
          },
          "colorscale": {
           "diverging": [
            [
             0,
             "#8e0152"
            ],
            [
             0.1,
             "#c51b7d"
            ],
            [
             0.2,
             "#de77ae"
            ],
            [
             0.3,
             "#f1b6da"
            ],
            [
             0.4,
             "#fde0ef"
            ],
            [
             0.5,
             "#f7f7f7"
            ],
            [
             0.6,
             "#e6f5d0"
            ],
            [
             0.7,
             "#b8e186"
            ],
            [
             0.8,
             "#7fbc41"
            ],
            [
             0.9,
             "#4d9221"
            ],
            [
             1,
             "#276419"
            ]
           ],
           "sequential": [
            [
             0,
             "#0d0887"
            ],
            [
             0.1111111111111111,
             "#46039f"
            ],
            [
             0.2222222222222222,
             "#7201a8"
            ],
            [
             0.3333333333333333,
             "#9c179e"
            ],
            [
             0.4444444444444444,
             "#bd3786"
            ],
            [
             0.5555555555555556,
             "#d8576b"
            ],
            [
             0.6666666666666666,
             "#ed7953"
            ],
            [
             0.7777777777777778,
             "#fb9f3a"
            ],
            [
             0.8888888888888888,
             "#fdca26"
            ],
            [
             1,
             "#f0f921"
            ]
           ],
           "sequentialminus": [
            [
             0,
             "#0d0887"
            ],
            [
             0.1111111111111111,
             "#46039f"
            ],
            [
             0.2222222222222222,
             "#7201a8"
            ],
            [
             0.3333333333333333,
             "#9c179e"
            ],
            [
             0.4444444444444444,
             "#bd3786"
            ],
            [
             0.5555555555555556,
             "#d8576b"
            ],
            [
             0.6666666666666666,
             "#ed7953"
            ],
            [
             0.7777777777777778,
             "#fb9f3a"
            ],
            [
             0.8888888888888888,
             "#fdca26"
            ],
            [
             1,
             "#f0f921"
            ]
           ]
          },
          "colorway": [
           "#636efa",
           "#EF553B",
           "#00cc96",
           "#ab63fa",
           "#FFA15A",
           "#19d3f3",
           "#FF6692",
           "#B6E880",
           "#FF97FF",
           "#FECB52"
          ],
          "font": {
           "color": "#2a3f5f"
          },
          "geo": {
           "bgcolor": "white",
           "lakecolor": "white",
           "landcolor": "#E5ECF6",
           "showlakes": true,
           "showland": true,
           "subunitcolor": "white"
          },
          "hoverlabel": {
           "align": "left"
          },
          "hovermode": "closest",
          "mapbox": {
           "style": "light"
          },
          "paper_bgcolor": "white",
          "plot_bgcolor": "#E5ECF6",
          "polar": {
           "angularaxis": {
            "gridcolor": "white",
            "linecolor": "white",
            "ticks": ""
           },
           "bgcolor": "#E5ECF6",
           "radialaxis": {
            "gridcolor": "white",
            "linecolor": "white",
            "ticks": ""
           }
          },
          "scene": {
           "xaxis": {
            "backgroundcolor": "#E5ECF6",
            "gridcolor": "white",
            "gridwidth": 2,
            "linecolor": "white",
            "showbackground": true,
            "ticks": "",
            "zerolinecolor": "white"
           },
           "yaxis": {
            "backgroundcolor": "#E5ECF6",
            "gridcolor": "white",
            "gridwidth": 2,
            "linecolor": "white",
            "showbackground": true,
            "ticks": "",
            "zerolinecolor": "white"
           },
           "zaxis": {
            "backgroundcolor": "#E5ECF6",
            "gridcolor": "white",
            "gridwidth": 2,
            "linecolor": "white",
            "showbackground": true,
            "ticks": "",
            "zerolinecolor": "white"
           }
          },
          "shapedefaults": {
           "line": {
            "color": "#2a3f5f"
           }
          },
          "ternary": {
           "aaxis": {
            "gridcolor": "white",
            "linecolor": "white",
            "ticks": ""
           },
           "baxis": {
            "gridcolor": "white",
            "linecolor": "white",
            "ticks": ""
           },
           "bgcolor": "#E5ECF6",
           "caxis": {
            "gridcolor": "white",
            "linecolor": "white",
            "ticks": ""
           }
          },
          "title": {
           "x": 0.05
          },
          "xaxis": {
           "automargin": true,
           "gridcolor": "white",
           "linecolor": "white",
           "ticks": "",
           "title": {
            "standoff": 15
           },
           "zerolinecolor": "white",
           "zerolinewidth": 2
          },
          "yaxis": {
           "automargin": true,
           "gridcolor": "white",
           "linecolor": "white",
           "ticks": "",
           "title": {
            "standoff": 15
           },
           "zerolinecolor": "white",
           "zerolinewidth": 2
          }
         }
        },
        "title": {
         "text": "In-Sample vs Out-of-Sample R-squared across Different Train-Test Splits"
        },
        "xaxis": {
         "anchor": "y",
         "domain": [
          0,
          1
         ],
         "title": {
          "text": "In-Sample R-squared"
         }
        },
        "yaxis": {
         "anchor": "x",
         "domain": [
          0,
          1
         ],
         "title": {
          "text": "Out-of-Sample R-squared"
         }
        }
       }
      },
      "text/html": [
       "<div>                            <div id=\"eefa9e2c-5648-4a62-94bd-ba23179fb477\" class=\"plotly-graph-div\" style=\"height:525px; width:100%;\"></div>            <script type=\"text/javascript\">                require([\"plotly\"], function(Plotly) {                    window.PLOTLYENV=window.PLOTLYENV || {};                                    if (document.getElementById(\"eefa9e2c-5648-4a62-94bd-ba23179fb477\")) {                    Plotly.newPlot(                        \"eefa9e2c-5648-4a62-94bd-ba23179fb477\",                        [{\"hovertemplate\":\"In Sample Performance (Rsquared)=%{x}\\u003cbr\\u003eOut of Sample Performance (Rsquared)=%{y}\\u003cextra\\u003e\\u003c\\u002fextra\\u003e\",\"legendgroup\":\"\",\"marker\":{\"color\":\"#636efa\",\"symbol\":\"circle\"},\"mode\":\"markers\",\"name\":\"\",\"orientation\":\"v\",\"showlegend\":false,\"x\":[0.08274586090848235,0.030315356022320605,0.031196225581570758,0.05708212655698508,0.10949741178508632,0.04478530359117583,0.1432147579230455,0.053586359574547604,0.11452501284767602,0.04378094818098066,0.07949713393687408,0.10323186081228242,0.16382014667883926,0.05241707583336097,0.12388135227617025,0.11996109022021506,0.06744333757599341,0.09501911812874231,0.07183410827651515,0.06525310499279036,0.07466303294928456,0.1490120477340936,0.07114994453473411,0.04968256524825132,0.10639220176838382,0.052159971493136226,0.1178451503999095,0.07552380073875276,0.0552448962097567,0.09165496757095071,0.04019044443058528,0.12920480784821908,0.04573820270752671,0.0194174579934161,0.0860964412532913,0.08111917501141241,0.017095931447771662,0.13577203962044404,0.16877296190565572,0.17072493515779563,0.08835232915294444,0.1373356689970262,0.046422985506382464,0.10115909589690897,0.05357735173923439,0.0951710019361447,0.1499226348831566,0.055842177319856634,0.18785178610830067,0.09924218283864117,0.08238520122604143,0.08195096334151053,0.10079720985000018,0.039238124964375176,0.18146369904726223,0.041078192589548146,0.12942377720641496,0.018220924058123478,0.0771550462176237,0.13277618653559453,0.07635780902920841,0.05492498482679198,0.13061537480402574,0.08586601945155359,0.07055879437714563,0.059708503619710585,0.07284405967089536,0.04706152885191761,0.10154031780988726,0.08150014475120493,0.07727978979716876,0.12646447295334817,0.05256990017333041,0.09846023537784865,0.1302789159491925,0.1889550318246389,0.15590150737497754,0.12415901848484945,0.168131910065344,0.06447423012972231,0.10472042814717097,0.04626797180018116,0.1675495887035513,0.06850920875192756,0.04087015336211597,0.0656273790708024,0.07835913006502715,0.06188797166524951,0.061173087504695856,0.02004604027127399,0.07084886725894324,0.1300796010995069,0.06276882832318942,0.2176326484125055,0.05200168844161457,0.07714293982092046,0.09961460388810539,0.09601479092686838,0.13943052017375035,0.18207334537195585],\"xaxis\":\"x\",\"y\":[9.143745241078459e-05,0.003689035699731796,0.007244680203469711,0.009204112220363242,0.002241507662450824,0.015969237001489354,3.711542890865405e-05,0.013471314496881246,0.013178530443458857,0.002196221866767875,0.003340890297558517,0.001525814931137276,0.002368988172256412,0.0019493350516655004,0.00201239018824638,0.061084747093668436,0.0009527009699237018,0.1158160611907492,0.01448924214428426,0.005522050213211966,0.004388033036669673,0.0009481740502886905,6.856361473499716e-05,0.006681321559918359,0.002113880666011986,0.013177850468731808,5.901441151672372e-05,0.05544901027017402,0.001878281175199776,0.003681057689780802,0.014708283613625818,0.009018622797550375,0.0384066261074768,0.039618357930276016,0.011388222541652967,0.0008349943717665968,0.004748276905907425,0.007274843036676433,0.0049061767190630295,0.016364735132584695,0.015983113087974416,0.01881641556512859,0.03378193792761801,0.012812696746940714,0.0011866079939448768,0.0031895009922355967,1.4334115867716645e-07,0.0045614080086357174,0.007587324208559792,0.005448308736000745,0.0077773224491956144,0.002537213769469253,0.0009869081957872357,0.017605004601000222,0.00032310861328419053,0.030010266102674727,0.00017322864688394307,0.022233622620283396,0.005479490246327195,0.0067970692093255874,0.028455786358741186,0.013974755866064646,5.662327440643353e-05,0.01298438035810333,0.00019335988687228285,0.009033089351171605,0.00563782859273807,0.042482238364587706,8.67838646605026e-05,0.0016733234307024162,0.008539294015398123,0.0025840020757449704,0.000960596320845578,0.015375004806739857,0.0004680068902085393,0.0023979502832457093,0.00011137106659015154,0.002446292294805624,0.005476774332692513,0.015622915960672631,0.0004175635487067733,0.004193917358533884,0.02505826169013183,0.018614022910732345,0.01792232560199876,0.025821487526840717,0.009983428361180708,0.01938599841007186,0.003039968497998552,0.011211961223353932,0.0243225150506805,9.619271134161783e-05,0.022076621554715868,0.027320641087735194,0.01849606706310176,0.013280820593588266,6.775444928151634e-05,0.0023721456639236712,0.017713050683428624,0.0005987755106067364],\"yaxis\":\"y\",\"type\":\"scatter\"},{\"line\":{\"dash\":\"dash\"},\"mode\":\"lines\",\"name\":\"y=x\",\"x\":[0,1],\"y\":[0,1],\"type\":\"scatter\"}],                        {\"template\":{\"data\":{\"histogram2dcontour\":[{\"type\":\"histogram2dcontour\",\"colorbar\":{\"outlinewidth\":0,\"ticks\":\"\"},\"colorscale\":[[0.0,\"#0d0887\"],[0.1111111111111111,\"#46039f\"],[0.2222222222222222,\"#7201a8\"],[0.3333333333333333,\"#9c179e\"],[0.4444444444444444,\"#bd3786\"],[0.5555555555555556,\"#d8576b\"],[0.6666666666666666,\"#ed7953\"],[0.7777777777777778,\"#fb9f3a\"],[0.8888888888888888,\"#fdca26\"],[1.0,\"#f0f921\"]]}],\"choropleth\":[{\"type\":\"choropleth\",\"colorbar\":{\"outlinewidth\":0,\"ticks\":\"\"}}],\"histogram2d\":[{\"type\":\"histogram2d\",\"colorbar\":{\"outlinewidth\":0,\"ticks\":\"\"},\"colorscale\":[[0.0,\"#0d0887\"],[0.1111111111111111,\"#46039f\"],[0.2222222222222222,\"#7201a8\"],[0.3333333333333333,\"#9c179e\"],[0.4444444444444444,\"#bd3786\"],[0.5555555555555556,\"#d8576b\"],[0.6666666666666666,\"#ed7953\"],[0.7777777777777778,\"#fb9f3a\"],[0.8888888888888888,\"#fdca26\"],[1.0,\"#f0f921\"]]}],\"heatmap\":[{\"type\":\"heatmap\",\"colorbar\":{\"outlinewidth\":0,\"ticks\":\"\"},\"colorscale\":[[0.0,\"#0d0887\"],[0.1111111111111111,\"#46039f\"],[0.2222222222222222,\"#7201a8\"],[0.3333333333333333,\"#9c179e\"],[0.4444444444444444,\"#bd3786\"],[0.5555555555555556,\"#d8576b\"],[0.6666666666666666,\"#ed7953\"],[0.7777777777777778,\"#fb9f3a\"],[0.8888888888888888,\"#fdca26\"],[1.0,\"#f0f921\"]]}],\"heatmapgl\":[{\"type\":\"heatmapgl\",\"colorbar\":{\"outlinewidth\":0,\"ticks\":\"\"},\"colorscale\":[[0.0,\"#0d0887\"],[0.1111111111111111,\"#46039f\"],[0.2222222222222222,\"#7201a8\"],[0.3333333333333333,\"#9c179e\"],[0.4444444444444444,\"#bd3786\"],[0.5555555555555556,\"#d8576b\"],[0.6666666666666666,\"#ed7953\"],[0.7777777777777778,\"#fb9f3a\"],[0.8888888888888888,\"#fdca26\"],[1.0,\"#f0f921\"]]}],\"contourcarpet\":[{\"type\":\"contourcarpet\",\"colorbar\":{\"outlinewidth\":0,\"ticks\":\"\"}}],\"contour\":[{\"type\":\"contour\",\"colorbar\":{\"outlinewidth\":0,\"ticks\":\"\"},\"colorscale\":[[0.0,\"#0d0887\"],[0.1111111111111111,\"#46039f\"],[0.2222222222222222,\"#7201a8\"],[0.3333333333333333,\"#9c179e\"],[0.4444444444444444,\"#bd3786\"],[0.5555555555555556,\"#d8576b\"],[0.6666666666666666,\"#ed7953\"],[0.7777777777777778,\"#fb9f3a\"],[0.8888888888888888,\"#fdca26\"],[1.0,\"#f0f921\"]]}],\"surface\":[{\"type\":\"surface\",\"colorbar\":{\"outlinewidth\":0,\"ticks\":\"\"},\"colorscale\":[[0.0,\"#0d0887\"],[0.1111111111111111,\"#46039f\"],[0.2222222222222222,\"#7201a8\"],[0.3333333333333333,\"#9c179e\"],[0.4444444444444444,\"#bd3786\"],[0.5555555555555556,\"#d8576b\"],[0.6666666666666666,\"#ed7953\"],[0.7777777777777778,\"#fb9f3a\"],[0.8888888888888888,\"#fdca26\"],[1.0,\"#f0f921\"]]}],\"mesh3d\":[{\"type\":\"mesh3d\",\"colorbar\":{\"outlinewidth\":0,\"ticks\":\"\"}}],\"scatter\":[{\"fillpattern\":{\"fillmode\":\"overlay\",\"size\":10,\"solidity\":0.2},\"type\":\"scatter\"}],\"parcoords\":[{\"type\":\"parcoords\",\"line\":{\"colorbar\":{\"outlinewidth\":0,\"ticks\":\"\"}}}],\"scatterpolargl\":[{\"type\":\"scatterpolargl\",\"marker\":{\"colorbar\":{\"outlinewidth\":0,\"ticks\":\"\"}}}],\"bar\":[{\"error_x\":{\"color\":\"#2a3f5f\"},\"error_y\":{\"color\":\"#2a3f5f\"},\"marker\":{\"line\":{\"color\":\"#E5ECF6\",\"width\":0.5},\"pattern\":{\"fillmode\":\"overlay\",\"size\":10,\"solidity\":0.2}},\"type\":\"bar\"}],\"scattergeo\":[{\"type\":\"scattergeo\",\"marker\":{\"colorbar\":{\"outlinewidth\":0,\"ticks\":\"\"}}}],\"scatterpolar\":[{\"type\":\"scatterpolar\",\"marker\":{\"colorbar\":{\"outlinewidth\":0,\"ticks\":\"\"}}}],\"histogram\":[{\"marker\":{\"pattern\":{\"fillmode\":\"overlay\",\"size\":10,\"solidity\":0.2}},\"type\":\"histogram\"}],\"scattergl\":[{\"type\":\"scattergl\",\"marker\":{\"colorbar\":{\"outlinewidth\":0,\"ticks\":\"\"}}}],\"scatter3d\":[{\"type\":\"scatter3d\",\"line\":{\"colorbar\":{\"outlinewidth\":0,\"ticks\":\"\"}},\"marker\":{\"colorbar\":{\"outlinewidth\":0,\"ticks\":\"\"}}}],\"scattermapbox\":[{\"type\":\"scattermapbox\",\"marker\":{\"colorbar\":{\"outlinewidth\":0,\"ticks\":\"\"}}}],\"scatterternary\":[{\"type\":\"scatterternary\",\"marker\":{\"colorbar\":{\"outlinewidth\":0,\"ticks\":\"\"}}}],\"scattercarpet\":[{\"type\":\"scattercarpet\",\"marker\":{\"colorbar\":{\"outlinewidth\":0,\"ticks\":\"\"}}}],\"carpet\":[{\"aaxis\":{\"endlinecolor\":\"#2a3f5f\",\"gridcolor\":\"white\",\"linecolor\":\"white\",\"minorgridcolor\":\"white\",\"startlinecolor\":\"#2a3f5f\"},\"baxis\":{\"endlinecolor\":\"#2a3f5f\",\"gridcolor\":\"white\",\"linecolor\":\"white\",\"minorgridcolor\":\"white\",\"startlinecolor\":\"#2a3f5f\"},\"type\":\"carpet\"}],\"table\":[{\"cells\":{\"fill\":{\"color\":\"#EBF0F8\"},\"line\":{\"color\":\"white\"}},\"header\":{\"fill\":{\"color\":\"#C8D4E3\"},\"line\":{\"color\":\"white\"}},\"type\":\"table\"}],\"barpolar\":[{\"marker\":{\"line\":{\"color\":\"#E5ECF6\",\"width\":0.5},\"pattern\":{\"fillmode\":\"overlay\",\"size\":10,\"solidity\":0.2}},\"type\":\"barpolar\"}],\"pie\":[{\"automargin\":true,\"type\":\"pie\"}]},\"layout\":{\"autotypenumbers\":\"strict\",\"colorway\":[\"#636efa\",\"#EF553B\",\"#00cc96\",\"#ab63fa\",\"#FFA15A\",\"#19d3f3\",\"#FF6692\",\"#B6E880\",\"#FF97FF\",\"#FECB52\"],\"font\":{\"color\":\"#2a3f5f\"},\"hovermode\":\"closest\",\"hoverlabel\":{\"align\":\"left\"},\"paper_bgcolor\":\"white\",\"plot_bgcolor\":\"#E5ECF6\",\"polar\":{\"bgcolor\":\"#E5ECF6\",\"angularaxis\":{\"gridcolor\":\"white\",\"linecolor\":\"white\",\"ticks\":\"\"},\"radialaxis\":{\"gridcolor\":\"white\",\"linecolor\":\"white\",\"ticks\":\"\"}},\"ternary\":{\"bgcolor\":\"#E5ECF6\",\"aaxis\":{\"gridcolor\":\"white\",\"linecolor\":\"white\",\"ticks\":\"\"},\"baxis\":{\"gridcolor\":\"white\",\"linecolor\":\"white\",\"ticks\":\"\"},\"caxis\":{\"gridcolor\":\"white\",\"linecolor\":\"white\",\"ticks\":\"\"}},\"coloraxis\":{\"colorbar\":{\"outlinewidth\":0,\"ticks\":\"\"}},\"colorscale\":{\"sequential\":[[0.0,\"#0d0887\"],[0.1111111111111111,\"#46039f\"],[0.2222222222222222,\"#7201a8\"],[0.3333333333333333,\"#9c179e\"],[0.4444444444444444,\"#bd3786\"],[0.5555555555555556,\"#d8576b\"],[0.6666666666666666,\"#ed7953\"],[0.7777777777777778,\"#fb9f3a\"],[0.8888888888888888,\"#fdca26\"],[1.0,\"#f0f921\"]],\"sequentialminus\":[[0.0,\"#0d0887\"],[0.1111111111111111,\"#46039f\"],[0.2222222222222222,\"#7201a8\"],[0.3333333333333333,\"#9c179e\"],[0.4444444444444444,\"#bd3786\"],[0.5555555555555556,\"#d8576b\"],[0.6666666666666666,\"#ed7953\"],[0.7777777777777778,\"#fb9f3a\"],[0.8888888888888888,\"#fdca26\"],[1.0,\"#f0f921\"]],\"diverging\":[[0,\"#8e0152\"],[0.1,\"#c51b7d\"],[0.2,\"#de77ae\"],[0.3,\"#f1b6da\"],[0.4,\"#fde0ef\"],[0.5,\"#f7f7f7\"],[0.6,\"#e6f5d0\"],[0.7,\"#b8e186\"],[0.8,\"#7fbc41\"],[0.9,\"#4d9221\"],[1,\"#276419\"]]},\"xaxis\":{\"gridcolor\":\"white\",\"linecolor\":\"white\",\"ticks\":\"\",\"title\":{\"standoff\":15},\"zerolinecolor\":\"white\",\"automargin\":true,\"zerolinewidth\":2},\"yaxis\":{\"gridcolor\":\"white\",\"linecolor\":\"white\",\"ticks\":\"\",\"title\":{\"standoff\":15},\"zerolinecolor\":\"white\",\"automargin\":true,\"zerolinewidth\":2},\"scene\":{\"xaxis\":{\"backgroundcolor\":\"#E5ECF6\",\"gridcolor\":\"white\",\"linecolor\":\"white\",\"showbackground\":true,\"ticks\":\"\",\"zerolinecolor\":\"white\",\"gridwidth\":2},\"yaxis\":{\"backgroundcolor\":\"#E5ECF6\",\"gridcolor\":\"white\",\"linecolor\":\"white\",\"showbackground\":true,\"ticks\":\"\",\"zerolinecolor\":\"white\",\"gridwidth\":2},\"zaxis\":{\"backgroundcolor\":\"#E5ECF6\",\"gridcolor\":\"white\",\"linecolor\":\"white\",\"showbackground\":true,\"ticks\":\"\",\"zerolinecolor\":\"white\",\"gridwidth\":2}},\"shapedefaults\":{\"line\":{\"color\":\"#2a3f5f\"}},\"annotationdefaults\":{\"arrowcolor\":\"#2a3f5f\",\"arrowhead\":0,\"arrowwidth\":1},\"geo\":{\"bgcolor\":\"white\",\"landcolor\":\"#E5ECF6\",\"subunitcolor\":\"white\",\"showland\":true,\"showlakes\":true,\"lakecolor\":\"white\"},\"title\":{\"x\":0.05},\"mapbox\":{\"style\":\"light\"}}},\"xaxis\":{\"anchor\":\"y\",\"domain\":[0.0,1.0],\"title\":{\"text\":\"In-Sample R-squared\"}},\"yaxis\":{\"anchor\":\"x\",\"domain\":[0.0,1.0],\"title\":{\"text\":\"Out-of-Sample R-squared\"}},\"legend\":{\"tracegroupgap\":0},\"margin\":{\"t\":60},\"title\":{\"text\":\"In-Sample vs Out-of-Sample R-squared across Different Train-Test Splits\"}},                        {\"responsive\": true}                    ).then(function(){\n",
       "                            \n",
       "var gd = document.getElementById('eefa9e2c-5648-4a62-94bd-ba23179fb477');\n",
       "var x = new MutationObserver(function (mutations, observer) {{\n",
       "        var display = window.getComputedStyle(gd).display;\n",
       "        if (!display || display === 'none') {{\n",
       "            console.log([gd, 'removed!']);\n",
       "            Plotly.purge(gd);\n",
       "            observer.disconnect();\n",
       "        }}\n",
       "}});\n",
       "\n",
       "// Listen for the removal of the full notebook cells\n",
       "var notebookContainer = gd.closest('#notebook-container');\n",
       "if (notebookContainer) {{\n",
       "    x.observe(notebookContainer, {childList: true});\n",
       "}}\n",
       "\n",
       "// Listen for the clearing of the current output cell\n",
       "var outputEl = gd.closest('.output');\n",
       "if (outputEl) {{\n",
       "    x.observe(outputEl, {childList: true});\n",
       "}}\n",
       "\n",
       "                        })                };                });            </script>        </div>"
      ]
     },
     "metadata": {},
     "output_type": "display_data"
    }
   ],
   "source": [
    "import numpy as np\n",
    "import pandas as pd\n",
    "import plotly.express as px\n",
    "import plotly.graph_objects as go\n",
    "import statsmodels.formula.api as smf\n",
    "from sklearn.model_selection import train_test_split\n",
    "\n",
    "# Creating a sample DataFrame if 'songs' is undefined\n",
    "# Replace this with your actual data if you have it\n",
    "np.random.seed(0)  # Fixed seed for reproducibility of example data\n",
    "songs = pd.DataFrame({\n",
    "    'danceability': np.random.rand(100),\n",
    "    'energy': np.random.rand(100),\n",
    "    'loudness': np.random.rand(100),\n",
    "    'mode': np.random.randint(0, 2, 100)\n",
    "})\n",
    "\n",
    "# Parameters\n",
    "linear_form = 'danceability ~ energy * loudness + energy * mode'\n",
    "reps = 100  # Number of repetitions\n",
    "\n",
    "# Arrays to store R-squared values for each iteration\n",
    "in_sample_Rsquared = np.array([0.0] * reps)\n",
    "out_of_sample_Rsquared = np.array([0.0] * reps)\n",
    "\n",
    "# Iteratively perform train-test split, model fitting, and R-squared calculations\n",
    "for i in range(reps):\n",
    "    # 50-50 split each iteration without a fixed random seed to vary data splits\n",
    "    songs_training_data, songs_testing_data = train_test_split(songs, train_size=0.5)\n",
    "    \n",
    "    # Fit the model on the training data\n",
    "    final_model_fit = smf.ols(formula=linear_form, data=songs_training_data).fit()\n",
    "    \n",
    "    # Calculate in-sample R-squared\n",
    "    in_sample_Rsquared[i] = final_model_fit.rsquared\n",
    "    \n",
    "    # Calculate out-of-sample R-squared\n",
    "    out_of_sample_Rsquared[i] = np.corrcoef(\n",
    "        songs_testing_data['danceability'], \n",
    "        final_model_fit.predict(songs_testing_data)\n",
    "    )[0, 1] ** 2\n",
    "\n",
    "# Create a DataFrame for visualization\n",
    "df = pd.DataFrame({\n",
    "    \"In Sample Performance (Rsquared)\": in_sample_Rsquared,\n",
    "    \"Out of Sample Performance (Rsquared)\": out_of_sample_Rsquared\n",
    "})\n",
    "\n",
    "# Visualization of the in-sample vs out-of-sample R-squared values\n",
    "fig = px.scatter(df, x=\"In Sample Performance (Rsquared)\", y=\"Out of Sample Performance (Rsquared)\")\n",
    "fig.add_trace(go.Scatter(x=[0, 1], y=[0, 1], mode=\"lines\", name=\"y=x\", line=dict(dash=\"dash\")))\n",
    "fig.update_layout(\n",
    "    title=\"In-Sample vs Out-of-Sample R-squared across Different Train-Test Splits\",\n",
    "    xaxis_title=\"In-Sample R-squared\",\n",
    "    yaxis_title=\"Out-of-Sample R-squared\"\n",
    ")\n",
    "fig.show()\n"
   ]
  },
  {
   "cell_type": "markdown",
   "id": "0b1d6367",
   "metadata": {},
   "source": [
    "Explanation of Results\n",
    "\n",
    "1. Ideal Model Behavior: If the model generalizes well, most points should lie near the line y=x, indicating similar performance on both training and testing data. This suggests a well-balanced model with minimal overfitting.\n",
    "\n",
    "2. Overfitting Detection: Points that are significantly above the line y=x indicate overfitting, where the model performs much better on the training data than on the testing data. This is a sign that the model has captured noise specific to the training set, reducing its ability to generalize.\n",
    "\n",
    "3. Unexpected Better Test Performance: Occasionally, points may fall below y=x, where the model does better on the testing data than on the training data. This is unusual and often attributed to random variations in the data split. It could also happen if the test data happen to be more aligned with the linear relationships the model captures, but it's generally not a reliable sign of generalizability."
   ]
  },
  {
   "cell_type": "markdown",
   "id": "4f27d9ac",
   "metadata": {},
   "source": [
    "Purpose and Conclusion of the Demonstration\n",
    "\n",
    "This demonstration serves as a diagnostic tool to understand model stability and robustness. The variability in performance across train-test splits highlights whether the model’s behavior is sensitive to changes in data composition. If we observe high variability in the \"out-of-sample\" R-squared, it could indicate the model is sensitive to the specific data points used in training, suggesting further tuning or an alternative model specification might be needed."
   ]
  },
  {
   "cell_type": "markdown",
   "id": "c90d7661",
   "metadata": {},
   "source": [
    "#Question 9\n",
    "\n",
    "Key Concepts and Explanation\n",
    "\n",
    "Model Comparison (model6_fit vs. model7_fit):\n",
    "model6_fit: A simpler, more interpretable model with fewer interaction terms.\n",
    "model7_fit: A more complex model with additional interaction terms. While it achieved better \"out-of-sample\" performance in previous random splits, and could potentially capture patterns that are specific to the training data."
   ]
  },
  {
   "cell_type": "markdown",
   "id": "a10afbf9",
   "metadata": {},
   "source": [
    "Generalizability Concerns\n",
    "\n",
    "In the training data, sophisticated models such as model7_fit can \"detect\" peculiar connections that do not hold up in fresh or untested data.  It is less dependable in sequential or real-world data contexts since it runs the risk of catching noise instead of significant trends."
   ]
  },
  {
   "cell_type": "markdown",
   "id": "893d797a",
   "metadata": {},
   "source": [
    "Importance of Parsimony and Interpretability\n",
    "\n",
    "Because model6_fit is more straightforward, it is easier to understand. The results can be understood and communicated more easily due to the reduced complexity. "
   ]
  },
  {
   "cell_type": "markdown",
   "id": "75b0fbe2",
   "metadata": {},
   "source": [
    "Code Explanation"
   ]
  },
  {
   "cell_type": "markdown",
   "id": "14d7107d",
   "metadata": {},
   "source": [
    "1. Original Model Performance\n",
    "\n",
    "This represents the R-squared values obtained from training and testing within a random split, providing a baseline for \"in-sample\" and \"out-of-sample\" performance"
   ]
  },
  {
   "cell_type": "markdown",
   "id": "967f6c2b",
   "metadata": {},
   "source": [
    "2. Sequential Prediction Scenarios\n",
    "\n",
    "After training on data from Generation 1, the model is applied to forecast results for every subsequent generation.\n",
    "In a similar manner, models are tested using data from Generation 6 after being trained on Generations 1 through 5. "
   ]
  },
  {
   "cell_type": "markdown",
   "id": "2e38003f",
   "metadata": {},
   "source": [
    "3. Comparing Models in Sequential Predictions\n",
    "\n",
    "By examining \"in-sample\" and \"out-of-sample\" R-squared across these scenarios, we see that model7_fit’s performance degrades more when predicting future data. In contrast, model6_fit performs more consistently, underscoring the benefits of simplicity for generalizability."
   ]
  },
  {
   "cell_type": "markdown",
   "id": "86326019",
   "metadata": {},
   "source": [
    "Summary for my chatbot (From question eight to nine)\n",
    "\n",
    "https://chatgpt.com/share/67343059-431c-800b-9bf7-92c2aaa57cc7"
   ]
  }
 ],
 "metadata": {
  "kernelspec": {
   "display_name": "Python 3 (ipykernel)",
   "language": "python",
   "name": "python3"
  },
  "language_info": {
   "codemirror_mode": {
    "name": "ipython",
    "version": 3
   },
   "file_extension": ".py",
   "mimetype": "text/x-python",
   "name": "python",
   "nbconvert_exporter": "python",
   "pygments_lexer": "ipython3",
   "version": "3.11.6"
  }
 },
 "nbformat": 4,
 "nbformat_minor": 5
}
